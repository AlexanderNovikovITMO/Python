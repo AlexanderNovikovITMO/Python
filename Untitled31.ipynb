{
  "nbformat": 4,
  "nbformat_minor": 0,
  "metadata": {
    "colab": {
      "provenance": []
    },
    "kernelspec": {
      "name": "python3",
      "display_name": "Python 3"
    },
    "language_info": {
      "name": "python"
    }
  },
  "cells": [
    {
      "cell_type": "code",
      "execution_count": null,
      "metadata": {
        "id": "nZa0sCV0FUtQ"
      },
      "outputs": [],
      "source": [
        "import pandas as pd\n",
        "\n",
        "# Загрузка данных\n",
        "df = pd.read_csv('train.csv')\n",
        "\n",
        "# Основная информация о датасете\n",
        "info = df.info()\n",
        "missing_values = df.isnull().sum()\n",
        "mean_values = df.mean(numeric_only=True)\n",
        "\n",
        "print(info)\n",
        "print(\"Пропуски:\\n\", missing_values)\n",
        "print(\"Средние значения:\\n\", mean_values)\n",
        "\n",
        "# Процент выживаемости по классам\n",
        "survival_rate_by_class = df.groupby('Pclass')['Survived'].mean() * 100\n",
        "print(\"Процент выживаемости по классам:\\n\", survival_rate_by_class)\n",
        "\n",
        "# Извлечение имен\n",
        "df['First_Name'] = df['Name'].str.extract('([A-Za-z]+)')\n",
        "\n",
        "# Определение пола\n",
        "male_names = df[df['Sex'] == 'male']['First_Name']\n",
        "female_names = df[df['Sex'] == 'female']['First_Name']\n",
        "\n",
        "most_common_male_name = male_names.value_counts().idxmax()\n",
        "most_common_female_name = female_names.value_counts().idxmax()\n",
        "\n",
        "print(\"Самое популярное мужское имя:\", most_common_male_name)\n",
        "print(\"Самое популярное женское имя:\", most_common_female_name)\n",
        "\n",
        "# Популярные имена по классам\n",
        "popular_names_by_class = df.groupby('Pclass').agg({\n",
        "    'First_Name': lambda x: x.value_counts().idxmax()\n",
        "})\n",
        "\n",
        "print(\"Популярные имена по классам:\\n\", popular_names_by_class)\n",
        "\n",
        "# Пассажиры старше 44 лет\n",
        "older_passengers = df[df['Age'] > 44]\n",
        "print(\"Пассажиры старше 44 лет:\\n\", older_passengers)\n",
        "\n",
        "# Мужчины младше 44 лет\n",
        "younger_men = df[(df['Age'] < 44) & (df['Sex'] == 'male')]\n",
        "print(\"Мужчины младше 44 лет:\\n\", younger_men)\n",
        "\n",
        "# Количество мест в каютах\n",
        "cabin_counts = df['Cabin'].str.split(' ', expand=True).stack().value_counts()\n",
        "n_seat_cabins = cabin_counts.value_counts()\n",
        "\n",
        "print(\"Количество n-местных кабин:\\n\", n_seat_cabins)\n"
      ]
    }
  ]
}