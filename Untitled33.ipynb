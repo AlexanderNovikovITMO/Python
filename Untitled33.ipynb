{
  "nbformat": 4,
  "nbformat_minor": 0,
  "metadata": {
    "colab": {
      "provenance": []
    },
    "kernelspec": {
      "name": "python3",
      "display_name": "Python 3"
    },
    "language_info": {
      "name": "python"
    }
  },
  "cells": [
    {
      "cell_type": "code",
      "execution_count": null,
      "metadata": {
        "id": "8WGvp5KzLhSr"
      },
      "outputs": [],
      "source": [
        "import polars as pl\n",
        "\n",
        "# Чтение данных из файла train.csv\n",
        "df = pl.read_csv('train.csv')\n",
        "# Вывод основной информации о датасете\n",
        "print(df.describe())\n",
        "print(df.dtypes)\n",
        "print(df.null_count())\n",
        "# Подсчет количества пассажиров в каждом классе\n",
        "pclass_counts = df.get_column('Pclass').value_counts()\n",
        "print(pclass_counts)\n",
        "# Подсчет количества выживших мужчин и женщин\n",
        "survivors_by_gender = df.groupby('Sex').agg(pl.col('Survived').sum())\n",
        "print(survivors_by_gender)\n",
        "# Фильтрация пассажиров старше 44 лет\n",
        "older_passengers = df.filter(pl.col('Age') > 44)\n",
        "print(older_passengers)\n",
        "import pandas as pd\n",
        "\n",
        "# Чтение данных из файла train.csv\n",
        "df = pd.read_csv('train.csv')\n",
        "import bottleneck as bn\n",
        "\n",
        "# Подсчет среднего возраста и стандартного отклонения\n",
        "mean_age = bn.nanmean(df['Age'])\n",
        "std_age = bn.nanstd(df['Age'])\n",
        "print(f'Средний возраст: {mean_age}, Стандартное отклонение: {std_age}')\n",
        "# Умножение значения столбца Fare на 1.3 и сохранение в новый столбец Fare_new\n",
        "df['Fare_new'] = df['Fare'].apply(lambda x: x * 1.3)\n",
        "# Чтение данных из файла Housing.csv\n",
        "df_housing = pd.read_csv('Housing.csv')\n",
        "# Оптимизация типов данных для уменьшения потребления памяти\n",
        "initial_memory = df_housing.memory_usage(deep=True).sum()\n",
        "print(f'Начальное потребление памяти: {initial_memory} bytes')\n",
        "\n",
        "for col in df_housing.columns:\n",
        "    if df_housing[col].dtype == 'float64':\n",
        "        df_housing[col] = df_housing[col].astype('float32')\n",
        "    elif df_housing[col].dtype == 'int64':\n",
        "        df_housing[col] = df_housing[col].astype('int32')\n",
        "    elif df_housing[col].dtype == 'object':\n",
        "        df_housing[col] = df_housing[col].astype('category')\n",
        "\n",
        "optimized_memory = df_housing.memory_usage(deep=True).sum()\n",
        "print(f'Оптимизированное потребление памяти: {optimized_memory} bytes')\n"
      ]
    }
  ]
}