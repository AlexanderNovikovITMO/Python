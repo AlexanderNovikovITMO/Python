{
  "nbformat": 4,
  "nbformat_minor": 0,
  "metadata": {
    "colab": {
      "provenance": []
    },
    "kernelspec": {
      "name": "python3",
      "display_name": "Python 3"
    },
    "language_info": {
      "name": "python"
    }
  },
  "cells": [
    {
      "cell_type": "code",
      "execution_count": 1,
      "metadata": {
        "colab": {
          "base_uri": "https://localhost:8080/"
        },
        "id": "X60wgYkhtvWa",
        "outputId": "c13a8a10-04a0-42f8-85c7-1af9211d158e"
      },
      "outputs": [
        {
          "output_type": "stream",
          "name": "stdout",
          "text": [
            "Цена батончика должна быть больше нуля.\n"
          ]
        }
      ],
      "source": [
        "class Chocolate:\n",
        "    def __init__(self, price: float, topping: str = None):\n",
        "        if price <= 0:\n",
        "            raise ValueError(\"Цена батончика должна быть больше нуля.\")\n",
        "        self.price = price\n",
        "        self.topping = topping\n",
        "\n",
        "    def show_my_chocolate(self):\n",
        "        if self.topping:\n",
        "            print(f\"Шоколадный батончик, добавка: {self.topping}\")\n",
        "        else:\n",
        "            print(\"Обычный шоколадный батончик\")\n",
        "\n",
        "    def __str__(self):\n",
        "        return f\"Шоколадный батончик, {self.price} рублей\"\n",
        "\n",
        "# Демонстрация использования класса Chocolate\n",
        "if __name__ == \"__main__\":\n",
        "    try:\n",
        "        chocolate1 = Chocolate(150.0, \"орехи\")\n",
        "        chocolate2 = Chocolate(100.0)\n",
        "        chocolate3 = Chocolate(-50.0)  # Это вызовет исключение\n",
        "\n",
        "        # Печать информации о шоколадных батончиках\n",
        "        print(chocolate1)\n",
        "        chocolate1.show_my_chocolate()\n",
        "\n",
        "        print(chocolate2)\n",
        "        chocolate2.show_my_chocolate()\n",
        "\n",
        "    except ValueError as e:\n",
        "        print(e)\n"
      ]
    }
  ]
}